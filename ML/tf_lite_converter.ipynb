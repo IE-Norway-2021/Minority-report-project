{
 "cells": [
  {
   "cell_type": "code",
   "execution_count": 1,
   "metadata": {
    "colab": {
     "base_uri": "https://localhost:8080/"
    },
    "executionInfo": {
     "elapsed": 29912,
     "status": "ok",
     "timestamp": 1637056901514,
     "user": {
      "displayName": "Jade Gröli",
      "photoUrl": "https://lh3.googleusercontent.com/a-/AOh14Gjk8MC9I7Fr6NMagjwdgtmOd5RkmRXA-XOq3KPiHg=s64",
      "userId": "09345918639669384524"
     },
     "user_tz": -60
    },
    "id": "Hq4uNwCbMEJJ",
    "outputId": "e27881d3-7335-4ae0-b31a-a782e0465b53"
   },
   "outputs": [
    {
     "name": "stdout",
     "output_type": "stream",
     "text": [
      "Mounted at /content/drive\n"
     ]
    }
   ],
   "source": [
    "from google.colab import drive\n",
    "drive.mount('/content/drive')"
   ]
  },
  {
   "cell_type": "code",
   "execution_count": null,
   "metadata": {},
   "outputs": [],
   "source": [
    "!pip install tensorflow==2.5.0 tensorflow-model-optimization\n",
    "!pip show tensorflow"
   ]
  },
  {
   "cell_type": "code",
   "execution_count": null,
   "metadata": {},
   "outputs": [],
   "source": [
    "import tensorflow as tf\n",
    "from tensorflow_model_optimization.quantization.keras import *\n",
    "from tensorflow import keras\n",
    "from tensorflow.keras import layers\n",
    "\n",
    "model = keras.Sequential(\n",
    "            [\n",
    "                layers.Conv3D(16, kernel_size=(3, 3, 4), input_shape=input_shape, strides=(1, 1, 1),\n",
    "                              padding='valid', activation='relu'),\n",
    "                layers.MaxPool3D(),\n",
    "                layers.BatchNormalization(),\n",
    "                layers.Conv3D(32, 3, padding=\"same\", activation=\"relu\"),\n",
    "                layers.MaxPool3D(),\n",
    "                layers.BatchNormalization(),\n",
    "                layers.Flatten(),\n",
    "                layers.Dropout(0.2),\n",
    "                layers.Dense(80, activation='relu'),\n",
    "                layers.Dense(40, activation='relu'),\n",
    "                layers.Dropout(0.4),\n",
    "                layers.Dense(6, activation='softmax'),\n",
    "            ]\n",
    "        )\n",
    "\n",
    "model.load_weights('drive/MyDrive/video_rgb_reduced_2_pi_weights.h5')\n",
    "    # Convert the model.\n",
    "converter = tf.lite.TFLiteConverter.from_keras_model(model)\n",
    "    \n",
    "converter.target_spec.supported_ops = [\n",
    "    tf.lite.OpsSet.TFLITE_BUILTINS, # enable TensorFlow Lite ops.\n",
    "    tf.lite.OpsSet.SELECT_TF_OPS, # enable TensorFlow ops.      \n",
    "]\n",
    "converter.optimizations = [tf.lite.Optimize.DEFAULT]\n",
    "    \n",
    "tflite_model = converter.convert()\n",
    "\n",
    "    # Save the model.\n",
    "with open('drive/MyDrive/video_rgb_reduced_2_pi_weights.tflite', 'wb') as f:\n",
    "  f.write(tflite_model)"
   ]
  },
  {
   "cell_type": "code",
   "execution_count": 10,
   "metadata": {
    "colab": {
     "base_uri": "https://localhost:8080/"
    },
    "executionInfo": {
     "elapsed": 6235,
     "status": "ok",
     "timestamp": 1637057439861,
     "user": {
      "displayName": "Jade Gröli",
      "photoUrl": "https://lh3.googleusercontent.com/a-/AOh14Gjk8MC9I7Fr6NMagjwdgtmOd5RkmRXA-XOq3KPiHg=s64",
      "userId": "09345918639669384524"
     },
     "user_tz": -60
    },
    "id": "DGy_zMskLMJM",
    "outputId": "c39183d2-6b33-47c1-9e4a-9db3602eb1a1"
   },
   "outputs": [
    {
     "name": "stdout",
     "output_type": "stream",
     "text": [
      "INFO:tensorflow:Assets written to: /tmp/tmpt80843fd/assets\n"
     ]
    },
    {
     "name": "stderr",
     "output_type": "stream",
     "text": [
      "INFO:tensorflow:Assets written to: /tmp/tmpt80843fd/assets\n",
      "WARNING:absl:Buffer deduplication procedure will be skipped when flatbuffer library is not properly loaded\n"
     ]
    }
   ],
   "source": [
    "import tensorflow as tf\n",
    "from tensorflow_model_optimization.quantization.keras import *\n",
    "from tensorflow import keras\n",
    "from tensorflow.keras import layers\n",
    "\n",
    "model = keras.Sequential(\n",
    "            [\n",
    "                layers.Conv3D(16, kernel_size=(3, 3, 4), input_shape=input_shape, strides=(1, 1, 1),\n",
    "                              padding='valid', activation='relu'),\n",
    "                layers.MaxPool3D(),\n",
    "                layers.BatchNormalization(),\n",
    "                layers.Conv3D(32, 3, padding=\"same\", activation=\"relu\"),\n",
    "                layers.MaxPool3D(),\n",
    "                layers.BatchNormalization(),\n",
    "                layers.Flatten(),\n",
    "                layers.Dropout(0.2),\n",
    "                layers.Dense(80, activation='relu'),\n",
    "                layers.Dense(40, activation='relu'),\n",
    "                layers.Dropout(0.4),\n",
    "                layers.Dense(6, activation='softmax'),\n",
    "            ]\n",
    "        )\n",
    "\n",
    "model.load_weights('drive/MyDrive/video_depth_reduced_2_pi_weights.h5')\n",
    "    # Convert the model.\n",
    "converter = tf.lite.TFLiteConverter.from_keras_model(model)\n",
    "    \n",
    "converter.target_spec.supported_ops = [\n",
    "    tf.lite.OpsSet.TFLITE_BUILTINS, # enable TensorFlow Lite ops.\n",
    "    tf.lite.OpsSet.SELECT_TF_OPS, # enable TensorFlow ops.      \n",
    "]\n",
    "converter.optimizations = [tf.lite.Optimize.DEFAULT]\n",
    "    \n",
    "tflite_model = converter.convert()\n",
    "\n",
    "    # Save the model.\n",
    "with open('drive/MyDrive/video_depth_reduced_2_pi_weights.tflite', 'wb') as f:\n",
    "  f.write(tflite_model)"
   ]
  }
 ],
 "metadata": {
  "colab": {
   "authorship_tag": "ABX9TyPHFIgWRhs/9ColdA2RCP2j",
   "collapsed_sections": [],
   "name": "converter_h5_to_tflite.ipynb",
   "provenance": []
  },
  "kernelspec": {
   "display_name": "Python 3",
   "name": "python3"
  },
  "language_info": {
   "name": "python"
  }
 },
 "nbformat": 4,
 "nbformat_minor": 0
}