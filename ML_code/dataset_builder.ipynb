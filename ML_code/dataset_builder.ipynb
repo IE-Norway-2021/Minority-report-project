{
 "cells": [
  {
   "cell_type": "code",
   "execution_count": 3,
   "metadata": {
    "collapsed": true
   },
   "outputs": [],
   "source": [
    "# Imports needed\n",
    "import os\n",
    "os.environ[\"TF_CPP_MIN_LOG_LEVEL\"] = \"2\"\n",
    "import tensorflow as tf\n",
    "from tensorflow import keras\n",
    "from tensorflow.keras import layers\n",
    "from tensorflow.keras.preprocessing.image import ImageDataGenerator\n",
    "\n",
    "img_height = 480\n",
    "img_width = 1488\n",
    "batch_size = 128\n",
    "folder_name = 'tbd'"
   ]
  },
  {
   "cell_type": "code",
   "execution_count": 6,
   "outputs": [],
   "source": [
    "model = keras.Sequential(\n",
    "    [\n",
    "        layers.Conv2D(25, kernel_size=(3, 3), strides=(1, 1), padding='valid', activation='relu',\n",
    "                      input_shape=(img_width, img_height, 1)),\n",
    "        layers.Conv2D(16, 3, padding=\"same\"),\n",
    "        layers.Conv2D(32, 3, padding=\"same\"),\n",
    "        layers.MaxPooling2D(),\n",
    "        layers.Flatten(),\n",
    "        layers.Dense(100, input_shape=(784,), activation='relu'),\n",
    "        layers.Dense(10, activation='softmax'),\n",
    "    ]\n",
    ")"
   ],
   "metadata": {
    "collapsed": false,
    "pycharm": {
     "name": "#%%\n"
    }
   }
  },
  {
   "cell_type": "code",
   "execution_count": null,
   "outputs": [],
   "source": [
    "def augment(x, y):\n",
    "    image = tf.image.random_brightness(x, max_delta=0.05)\n",
    "    return image, y"
   ],
   "metadata": {
    "collapsed": false,
    "pycharm": {
     "name": "#%%\n"
    }
   }
  },
  {
   "cell_type": "code",
   "execution_count": 5,
   "outputs": [],
   "source": [
    "#                      METHOD 1\n",
    "# ==================================================== #\n",
    "#             Using dataset_from_directory             #\n",
    "# ==================================================== #\n",
    "def test():\n",
    "    ds_train = tf.keras.preprocessing.image_dataset_from_directory(\n",
    "        folder_name,\n",
    "        labels=\"inferred\",\n",
    "        label_mode=\"int\",  # categorical, binary\n",
    "        class_names=['0', '1', '2', '3', '4', '5', '6', '7', '8', '9'],\n",
    "        color_mode=\"grayscale\",\n",
    "        batch_size=batch_size,\n",
    "        image_size=(img_height, img_width),  # reshape if not in this size\n",
    "        shuffle=True,\n",
    "        seed=123,\n",
    "        validation_split=0.1,\n",
    "        subset=\"training\",\n",
    "    )\n",
    "    ds_validation = tf.keras.preprocessing.image_dataset_from_directory(\n",
    "        folder_name,\n",
    "        labels=\"inferred\",\n",
    "        label_mode=\"int\",  # categorical, binary\n",
    "        class_names=['0', '1', '2', '3', '4', '5', '6', '7', '8', '9'],\n",
    "        color_mode=\"grayscale\",\n",
    "        batch_size=batch_size,\n",
    "        image_size=(img_height, img_width),  # reshape if not in this size\n",
    "        shuffle=True,\n",
    "        seed=123,\n",
    "        validation_split=0.1,\n",
    "        subset=\"validation\",\n",
    "    )\n",
    "    ds_train = ds_train.map(augment)\n",
    "    # Custom Loops\n",
    "    for epochs in range(10):\n",
    "        for x, y in ds_train:\n",
    "            # train here\n",
    "            pass\n",
    "    model.compile(\n",
    "        optimizer=keras.optimizers.Adam(),\n",
    "        loss=[keras.losses.SparseCategoricalCrossentropy(from_logits=True), ],\n",
    "        metrics=[\"accuracy\"],\n",
    "    )\n",
    "    model.fit(ds_train, epochs=10, verbose=2)"
   ],
   "metadata": {
    "collapsed": false,
    "pycharm": {
     "name": "#%%\n"
    }
   }
  },
  {
   "cell_type": "code",
   "execution_count": 4,
   "outputs": [
    {
     "name": "stdout",
     "output_type": "stream",
     "text": [
      "PyCharm\n"
     ]
    }
   ],
   "source": [
    "# Press the green button in the gutter to run the script.\n",
    "if __name__ == '__main__':\n",
    "    print('PyCharm')"
   ],
   "metadata": {
    "collapsed": false,
    "pycharm": {
     "name": "#%%\n"
    }
   }
  },
  {
   "cell_type": "code",
   "execution_count": null,
   "outputs": [],
   "source": [],
   "metadata": {
    "collapsed": false,
    "pycharm": {
     "name": "#%%"
    }
   }
  }
 ],
 "metadata": {
  "kernelspec": {
   "display_name": "Python 3",
   "language": "python",
   "name": "python3"
  },
  "language_info": {
   "codemirror_mode": {
    "name": "ipython",
    "version": 2
   },
   "file_extension": ".py",
   "mimetype": "text/x-python",
   "name": "python",
   "nbconvert_exporter": "python",
   "pygments_lexer": "ipython2",
   "version": "2.7.6"
  }
 },
 "nbformat": 4,
 "nbformat_minor": 0
}