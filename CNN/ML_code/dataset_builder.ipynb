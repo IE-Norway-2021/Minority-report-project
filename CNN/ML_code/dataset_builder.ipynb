{
 "cells": [
  {
   "cell_type": "code",
   "execution_count": null,
   "metadata": {
    "collapsed": true
   },
   "outputs": [],
   "source": [
    "# Imports needed\n",
    "import os\n",
    "\n",
    "os.environ[\"TF_CPP_MIN_LOG_LEVEL\"] = \"2\"\n",
    "\n",
    "import tensorflow as tf\n",
    "from tensorflow import Tensor\n",
    "from tensorflow import keras\n",
    "from tensorflow.keras import layers\n",
    "from tensorflow.python.keras.layers import Input, Conv2D, ReLU, BatchNormalization, Add, AveragePooling2D, Flatten,\\\n",
    "    Dense\n",
    "from tensorflow.python.keras.models import Model\n",
    "from tensorflow.keras.preprocessing.image import ImageDataGenerator\n",
    "\n",
    "img_height = 120\n",
    "img_width = 160\n",
    "batch_size = 12\n",
    "folder_name = 'rgb_160x120_image_dataset'\n",
    "split_value = 0.1\n",
    "\n",
    "# Old model usage, redundant\n",
    "\n",
    "model = keras.Sequential(\n",
    "    [\n",
    "        layers.InputLayer(input_shape=(img_width, img_height, 3)),\n",
    "        layers.Conv2D(25, kernel_size=(3, 4), strides=(1, 1), padding='valid', activation='relu'),\n",
    "        layers.MaxPooling2D(),\n",
    "        layers.Conv2D(64, 3, padding=\"same\", activation=\"relu\"),\n",
    "        layers.MaxPooling2D(),\n",
    "        layers.BatchNormalization(),\n",
    "        layers.Conv2D(64, 3, padding=\"same\", activation=\"relu\"),\n",
    "        layers.MaxPooling2D(),\n",
    "        layers.BatchNormalization(),\n",
    "        layers.Flatten(),\n",
    "        layers.Dense(100, activation='relu'),\n",
    "        layers.Dense(100, activation='relu'),\n",
    "        layers.Dropout(0.4),\n",
    "        layers.Dense(10, activation='softmax'),\n",
    "    ]\n",
    ")"
   ]
  },
  {
   "cell_type": "code",
   "execution_count": null,
   "outputs": [],
   "source": [
    "ds_train = tf.keras.preprocessing.image_dataset_from_directory(\n",
    "    folder_name,\n",
    "    labels=\"inferred\",\n",
    "    label_mode=\"int\",  # categorical, binary\n",
    "    class_names=['0', '1', '2', '3', '4', '5', '6', '7', '8', '9'],\n",
    "    color_mode=\"rgb\",\n",
    "    batch_size=batch_size,\n",
    "    image_size=(img_width, img_height),  # reshape if not in this size\n",
    "    shuffle=True,\n",
    "    seed=123,\n",
    "    validation_split=split_value,\n",
    "    subset=\"training\",\n",
    ")\n",
    "ds_validation = tf.keras.preprocessing.image_dataset_from_directory(\n",
    "    folder_name,\n",
    "    labels=\"inferred\",\n",
    "    label_mode=\"int\",  # categorical, binary\n",
    "    class_names=['0', '1', '2', '3', '4', '5', '6', '7', '8', '9'],\n",
    "    color_mode=\"rgb\",\n",
    "    batch_size=batch_size,\n",
    "    image_size=(img_width, img_height),  # reshape if not in this size\n",
    "    shuffle=True,\n",
    "    seed=123,\n",
    "    validation_split=split_value,\n",
    "    subset=\"validation\",\n",
    ")\n",
    "# ds_train = ds_train.map(augment)\n",
    "# Custom Loops\n",
    "# for epochs in range(10):\n",
    "#     for x, y in ds_train:\n",
    "#         # train here\n",
    "#         pass\n",
    "model.compile(\n",
    "    optimizer=tf.keras.optimizers.Adam(learning_rate=0.001),\n",
    "    loss=tf.keras.losses.SparseCategoricalCrossentropy(from_logits=False),\n",
    "    metrics=[\"accuracy\"],\n",
    ")\n",
    "model.summary()\n",
    "model.fit(ds_train, epochs=50, verbose=1, validation_data=ds_validation)"
   ],
   "metadata": {
    "collapsed": false,
    "pycharm": {
     "name": "#%%\n"
    }
   }
  }
 ],
 "metadata": {
  "kernelspec": {
   "display_name": "Python 3",
   "language": "python",
   "name": "python3"
  },
  "language_info": {
   "codemirror_mode": {
    "name": "ipython",
    "version": 2
   },
   "file_extension": ".py",
   "mimetype": "text/x-python",
   "name": "python",
   "nbconvert_exporter": "python",
   "pygments_lexer": "ipython2",
   "version": "2.7.6"
  }
 },
 "nbformat": 4,
 "nbformat_minor": 0
}